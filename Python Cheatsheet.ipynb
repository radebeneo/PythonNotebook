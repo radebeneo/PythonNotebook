{
 "cells": [
  {
   "cell_type": "markdown",
   "id": "a8af8db9",
   "metadata": {},
   "source": [
    "# Python Operators"
   ]
  },
  {
   "cell_type": "markdown",
   "id": "3bcfed1e",
   "metadata": {},
   "source": [
    "## Arithmetic Operators\n",
    "\n",
    "102 + 37 #Add two numbers with +\n",
    "102 - 37 # Subtract a number with -\n",
    "4 * 6 # Multiply two numbers with *\n",
    "22 / 7 # Divide a number by another with /\n",
    "22 // 7 # Integer divide a number with //\n",
    "3 ** 4 # Raise to the power with **\n",
    "22 % 7 # Returns 1 # Get the remainder  after division with %"
   ]
  },
  {
   "cell_type": "markdown",
   "id": "7076bd1d",
   "metadata": {},
   "source": [
    "## Assingment Operators\n",
    "\n",
    "a = 5 # Assign a value to a\n",
    "x[0] = 1 # Change the value of an item in a list"
   ]
  },
  {
   "cell_type": "markdown",
   "id": "43830c87",
   "metadata": {},
   "source": [
    "## Numeric Comparison Operators\n",
    "\n",
    "3 == 3 # Test for equality with ==\n",
    "3 != 3 # Test for inequality with !=\n",
    "3 > 1 # Test greater than with >\n",
    "3 >= 3 # Test greater than or equal to with >=\n",
    "3 < 4 # Test less than with <\n",
    "3 <= 4 # Test less than or equal to with <="
   ]
  },
  {
   "cell_type": "code",
   "execution_count": null,
   "id": "e46425f8",
   "metadata": {},
   "outputs": [],
   "source": []
  }
 ],
 "metadata": {
  "kernelspec": {
   "display_name": "Python 3 (ipykernel)",
   "language": "python",
   "name": "python3"
  },
  "language_info": {
   "codemirror_mode": {
    "name": "ipython",
    "version": 3
   },
   "file_extension": ".py",
   "mimetype": "text/x-python",
   "name": "python",
   "nbconvert_exporter": "python",
   "pygments_lexer": "ipython3",
   "version": "3.11.5"
  }
 },
 "nbformat": 4,
 "nbformat_minor": 5

}
"cell_type": "markdown",
   "id": "43830c87",
   "metadata": {},
   "source": [
    "## Data Structes in Python\n"
"Lists:",
"Ordered collection of items.",
"Mutable (can be changed).",
"Created using square brackets [].",
"Example: my_list = [1, 2, 3, 4, 5]",
"Tuples:",
"Similar to lists but immutable (cannot be changed).",
"Created using parentheses ().",
"Example: my_tuple = (1, 2, 3, 4, 5)",
"Dictionaries:",
"Key-value pairs.",
"Unordered.",
"Mutable.",
"Created using curly braces {} with key-value pairs separated by colons.",
"Example: my_dict = {'name': 'John', 'age': 30, 'city': 'New York'}",
"Sets:",
"Unordered collection of unique items.",
"Mutable.",
"Created using curly braces {} or the set() function.",
"Example: my_set = {1, 2, 3, 4, 5} or my_set = set([1, 2, 3, 4, 5])"]
